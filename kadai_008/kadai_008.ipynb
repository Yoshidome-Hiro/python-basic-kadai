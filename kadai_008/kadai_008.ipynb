{
  "nbformat": 4,
  "nbformat_minor": 0,
  "metadata": {
    "colab": {
      "provenance": [],
      "gpuType": "T4"
    },
    "kernelspec": {
      "name": "python3",
      "display_name": "Python 3"
    },
    "language_info": {
      "name": "python"
    }
  },
  "cells": [
    {
      "cell_type": "code",
      "execution_count": 2,
      "metadata": {
        "colab": {
          "base_uri": "https://localhost:8080/"
        },
        "id": "2WQQyFFdEqyk",
        "outputId": "a2a2fadc-8f81-46da-c659-f9d574a5fae7"
      },
      "outputs": [
        {
          "output_type": "stream",
          "name": "stdout",
          "text": [
            "3\n"
          ]
        }
      ],
      "source": [
        "print(1+2)"
      ]
    },
    {
      "cell_type": "code",
      "source": [
        "print(1+2*12)"
      ],
      "metadata": {
        "colab": {
          "base_uri": "https://localhost:8080/"
        },
        "id": "EHwNfpFBE_6l",
        "outputId": "5d1de11f-7f18-457b-dfe5-0c9a6426ae0d"
      },
      "execution_count": 3,
      "outputs": [
        {
          "output_type": "stream",
          "name": "stdout",
          "text": [
            "25\n"
          ]
        }
      ]
    },
    {
      "cell_type": "code",
      "source": [
        "# 未成年の場合\n",
        "print(\"ジュースで乾杯!\")"
      ],
      "metadata": {
        "colab": {
          "base_uri": "https://localhost:8080/"
        },
        "id": "pMMBVu7gGv93",
        "outputId": "43d0df19-46f0-46a2-cd09-5438431b0e62"
      },
      "execution_count": 2,
      "outputs": [
        {
          "output_type": "stream",
          "name": "stdout",
          "text": [
            "ジュースで乾杯!\n"
          ]
        }
      ]
    },
    {
      "cell_type": "code",
      "source": [
        "age = 18 # 年齢\n",
        "if age < 20:\n",
        "    '''\n",
        "    # 未成年の場合\n",
        "    print(\"ジュースで乾杯!\")\n",
        "else:\n",
        "    '''\n",
        "    # 成年の場合\n",
        "    print(\"お酒で乾杯!\")"
      ],
      "metadata": {
        "colab": {
          "base_uri": "https://localhost:8080/"
        },
        "id": "mNJ-tclKG1ZZ",
        "outputId": "708c4c3d-0a06-450f-97db-51ff8b82c8ef"
      },
      "execution_count": 7,
      "outputs": [
        {
          "output_type": "stream",
          "name": "stdout",
          "text": [
            "お酒で乾杯!\n"
          ]
        }
      ]
    },
    {
      "cell_type": "code",
      "source": [
        "print('こんにちは')\n",
        "print(\"今日はいい天気ですね\")"
      ],
      "metadata": {
        "colab": {
          "base_uri": "https://localhost:8080/"
        },
        "id": "nEixGrxyIggZ",
        "outputId": "1a5ee42d-b261-4f8d-fc34-e0cf3f44005d"
      },
      "execution_count": 8,
      "outputs": [
        {
          "output_type": "stream",
          "name": "stdout",
          "text": [
            "こんにちは\n",
            "今日はいい天気ですね\n"
          ]
        }
      ]
    },
    {
      "cell_type": "code",
      "source": [
        "print(100)\n",
        "print(0.1)\n",
        "print(45 + 18)\n",
        "print(30 - 12)\n",
        "print(15 * 6)\n",
        "print(30 / 3)\n",
        "print(45 % 8)\n",
        "print(type(30 / 3))\n",
        "print(45 + 1.8)\n",
        "print(3 -1.2)\n",
        "print(15 * 0.6)\n",
        "print(3 / 0.3)\n",
        "print(45 % 0.8)\n",
        "print(\"今日の天気は\" + \"晴れ\")\n",
        "print(\"今日の天気は\" + \"曇り\")\n",
        "print(\"降水確率\" + str(50) + \"%\" )"
      ],
      "metadata": {
        "colab": {
          "base_uri": "https://localhost:8080/"
        },
        "id": "6GYVGzmOI4b9",
        "outputId": "b56311ef-b2fd-4062-e8c1-1201a5a42ac8"
      },
      "execution_count": 16,
      "outputs": [
        {
          "output_type": "stream",
          "name": "stdout",
          "text": [
            "100\n",
            "0.1\n",
            "63\n",
            "18\n",
            "90\n",
            "10.0\n",
            "5\n",
            "<class 'float'>\n",
            "46.8\n",
            "1.8\n",
            "9.0\n",
            "10.0\n",
            "0.1999999999999975\n",
            "今日の天気は晴れ\n",
            "今日の天気は曇り\n",
            "降水確率50%\n"
          ]
        }
      ]
    },
    {
      "cell_type": "code",
      "source": [
        "print(\"晴れ\" * 5)\n",
        "print(\"晴れ\" + \"晴れ\" + \"晴れ\" + \"晴れ\" + \"晴れ\")"
      ],
      "metadata": {
        "colab": {
          "base_uri": "https://localhost:8080/"
        },
        "id": "LTNQ4h2NLT3Q",
        "outputId": "153f9a2e-216f-491e-b469-81ba66fdb6fb"
      },
      "execution_count": 17,
      "outputs": [
        {
          "output_type": "stream",
          "name": "stdout",
          "text": [
            "晴れ晴れ晴れ晴れ晴れ\n",
            "晴れ晴れ晴れ晴れ晴れ\n"
          ]
        }
      ]
    },
    {
      "cell_type": "code",
      "source": [
        "user_name = \"侍太郎\"\n",
        "print(user_name)\n",
        "\n",
        "user_name = \"侍花子\"\n",
        "print(user_name)"
      ],
      "metadata": {
        "colab": {
          "base_uri": "https://localhost:8080/"
        },
        "id": "h9ZmCk_UMQes",
        "outputId": "125c45f0-67ca-40c7-f192-7304fef4f377"
      },
      "execution_count": 19,
      "outputs": [
        {
          "output_type": "stream",
          "name": "stdout",
          "text": [
            "侍太郎\n",
            "侍花子\n"
          ]
        }
      ]
    },
    {
      "cell_type": "code",
      "source": [
        "# 整数型と浮動小数点型の足し算\n",
        "number1 = 5\n",
        "number2 = 2.5\n",
        "print(number1 + number2)\n",
        "\n",
        "#　文字列型と文字列型の連結\n",
        "last_name = \"侍\"\n",
        "first_name = \"太郎\"\n",
        "print(last_name + first_name)"
      ],
      "metadata": {
        "colab": {
          "base_uri": "https://localhost:8080/"
        },
        "id": "HoekijbfMqW_",
        "outputId": "72b134c4-c8ea-467d-a1b3-95519d850ede"
      },
      "execution_count": 20,
      "outputs": [
        {
          "output_type": "stream",
          "name": "stdout",
          "text": [
            "7.5\n",
            "侍太郎\n"
          ]
        }
      ]
    },
    {
      "cell_type": "code",
      "source": [
        "trapezpod_top = 10\n",
        "trapezpod_bottom = 20\n",
        "trapezpod_height = 5\n",
        "#　台形の面積を計算し、変数に格納\n",
        "area = (trapezpod_top + trapezpod_bottom) * trapezpod_height / 2\n",
        "# 結果の出力\n",
        "print(f\"{area} cm\\u00b2\")"
      ],
      "metadata": {
        "colab": {
          "base_uri": "https://localhost:8080/"
        },
        "id": "_BTHdif8Opsg",
        "outputId": "898fff29-022a-4b4e-954c-5854f2f32460"
      },
      "execution_count": 3,
      "outputs": [
        {
          "output_type": "stream",
          "name": "stdout",
          "text": [
            "75.0 cm²\n"
          ]
        }
      ]
    },
    {
      "cell_type": "code",
      "source": [
        "user_names = [\"侍太郎\", \"侍一郎\", \"侍二郎\", \"侍三郎\", \"侍四郎\"]\n",
        "\n",
        "#2番目の要素である[侍一郎]という文字列だけを取り出して表示する\n",
        "print(user_names[1])\n",
        "#すべての要素を取り出して表示する\n",
        "print(user_names)\n",
        "#2番目の要素を更新する\n",
        "user_names[1] =  \"侍花子\""
      ],
      "metadata": {
        "colab": {
          "base_uri": "https://localhost:8080/"
        },
        "id": "xJ8F1B_TZ7oY",
        "outputId": "c98f53b4-c562-4f11-bf01-d4e1cb4df03a"
      },
      "execution_count": 7,
      "outputs": [
        {
          "output_type": "stream",
          "name": "stdout",
          "text": [
            "侍一郎\n",
            "['侍太郎', '侍一郎', '侍二郎', '侍三郎', '侍四郎']\n"
          ]
        }
      ]
    },
    {
      "cell_type": "code",
      "source": [
        "user_names = [\"侍太郎\", \"侍一郎\", \"侍二郎\", \"侍三郎\", \"侍四郎\"]\n",
        "\n",
        "#2番目の要素を更新する\n",
        "user_names[1] =  \"侍花子\"\n",
        "\n",
        "print(user_names[1])\n",
        "print(user_names)\n"
      ],
      "metadata": {
        "colab": {
          "base_uri": "https://localhost:8080/"
        },
        "id": "-wK1LRb2SkL7",
        "outputId": "3d95acb5-47e1-46d4-ac85-72d9148c8fc8"
      },
      "execution_count": 15,
      "outputs": [
        {
          "output_type": "stream",
          "name": "stdout",
          "text": [
            "侍花子\n",
            "['侍太郎', '侍花子', '侍二郎', '侍三郎', '侍四郎']\n"
          ]
        }
      ]
    },
    {
      "cell_type": "code",
      "source": [
        "user_names = [\"侍太郎\", \"侍一郎\", \"侍二郎\", \"侍三郎\", \"侍四郎\"]\n",
        "\n",
        "# 6番目の要素を追加する\n",
        "user_names.append(\"侍五郎\")\n",
        "print(user_names)\n",
        "\n",
        "# 3番目の要素を削除する\n",
        "user_names.pop(2) # 0始まりのため、3番目のインデックスは2\n",
        "print(user_names)\n"
      ],
      "metadata": {
        "colab": {
          "base_uri": "https://localhost:8080/"
        },
        "id": "_b64tI8HTXNr",
        "outputId": "dd4a9e3b-9539-49cf-8f8f-234662a51ece"
      },
      "execution_count": 18,
      "outputs": [
        {
          "output_type": "stream",
          "name": "stdout",
          "text": [
            "['侍太郎', '侍一郎', '侍二郎', '侍三郎', '侍四郎', '侍五郎']\n",
            "['侍太郎', '侍一郎', '侍三郎', '侍四郎', '侍五郎']\n"
          ]
        }
      ]
    },
    {
      "cell_type": "code",
      "source": [
        "user_names = [\"侍太郎\", \"侍一郎\", \"侍二郎\", \"侍三郎\", \"侍四郎\"]\n",
        "\n",
        "print(user_names[1]) # 2番目の要素だけを表示\n",
        "\n",
        "user_names[1] = \"侍花子\" # 2番目の要素を変更\n",
        "print(user_names)\n",
        "\n",
        "user_names.append(\"侍五郎\") # 6番目の要素を追加\n",
        "print(user_names)\n",
        "\n",
        "user_names.pop(2) # 3番目の要素を削除（0始まりのため2を指定）\n",
        "print(user_names)"
      ],
      "metadata": {
        "colab": {
          "base_uri": "https://localhost:8080/"
        },
        "id": "2OOSo_AsT7Hx",
        "outputId": "f011a083-b1c4-4e27-b2e9-ed7ff79871ef"
      },
      "execution_count": 19,
      "outputs": [
        {
          "output_type": "stream",
          "name": "stdout",
          "text": [
            "侍一郎\n",
            "['侍太郎', '侍花子', '侍二郎', '侍三郎', '侍四郎']\n",
            "['侍太郎', '侍花子', '侍二郎', '侍三郎', '侍四郎', '侍五郎']\n",
            "['侍太郎', '侍花子', '侍三郎', '侍四郎', '侍五郎']\n"
          ]
        }
      ]
    },
    {
      "cell_type": "code",
      "source": [
        "country_names = (\"日本\", \"アメリカ\", \"イギリス\", \"フランス\")\n",
        "\n",
        "# 3番目の要素である「イギリス」という文字だけを取り出す\n",
        "print(country_names[2])\n",
        "# すべての要素を取り出して表示する\n",
        "print(country_names)"
      ],
      "metadata": {
        "colab": {
          "base_uri": "https://localhost:8080/"
        },
        "id": "bBXDiK1VU7ZQ",
        "outputId": "275b2f00-8567-4b9f-f16d-b2176e1d0ab5"
      },
      "execution_count": 21,
      "outputs": [
        {
          "output_type": "stream",
          "name": "stdout",
          "text": [
            "イギリス\n",
            "('日本', 'アメリカ', 'イギリス', 'フランス')\n"
          ]
        }
      ]
    },
    {
      "cell_type": "code",
      "source": [
        "country_names = (\"日本\", \"アメリカ\", \"イギリス\", \"フランス\")\n",
        "\n",
        "# 3番目の要素を取り出す\n",
        "print(country_names[2])\n",
        "\n",
        "# すべての要素を取り出す\n",
        "print(country_names)"
      ],
      "metadata": {
        "colab": {
          "base_uri": "https://localhost:8080/"
        },
        "id": "USXmj4FPVZp1",
        "outputId": "f8c73913-34c6-40c5-e02c-98f858505666"
      },
      "execution_count": 23,
      "outputs": [
        {
          "output_type": "stream",
          "name": "stdout",
          "text": [
            "イギリス\n",
            "('日本', 'アメリカ', 'イギリス', 'フランス')\n"
          ]
        }
      ]
    },
    {
      "cell_type": "code",
      "source": [
        "# 1～10までに含まれる素数のセット\n",
        "prime_numbers = {2, 3, 5, 7}"
      ],
      "metadata": {
        "id": "tAQ3oI-IWAJ2"
      },
      "execution_count": 26,
      "outputs": []
    },
    {
      "cell_type": "code",
      "source": [
        "country_names = {\"アメリカ\", \"イギリス\", \"日本\", \"フランス\"}\n",
        "\n",
        "# セット全体を表示\n",
        "print(country_names)"
      ],
      "metadata": {
        "colab": {
          "base_uri": "https://localhost:8080/"
        },
        "id": "Lbtsa_4yWgHy",
        "outputId": "ed4d5366-db3b-4f6a-aae3-483eac4905be"
      },
      "execution_count": 27,
      "outputs": [
        {
          "output_type": "stream",
          "name": "stdout",
          "text": [
            "{'フランス', 'イギリス', '日本', 'アメリカ'}\n"
          ]
        }
      ]
    },
    {
      "cell_type": "code",
      "source": [
        "# 1～10までに含まれる素数のセット（2と5が重複）\n",
        "prime_numbers = {2, 5, 2, 7, 3, 5, 5 }\n",
        "\n",
        "# セット全体を表示\n",
        "print(prime_numbers)"
      ],
      "metadata": {
        "colab": {
          "base_uri": "https://localhost:8080/"
        },
        "id": "sf72vbnjWy0-",
        "outputId": "617b36e6-4463-47c0-e39d-d8f63c9fa1b0"
      },
      "execution_count": 28,
      "outputs": [
        {
          "output_type": "stream",
          "name": "stdout",
          "text": [
            "{2, 3, 5, 7}\n"
          ]
        }
      ]
    },
    {
      "cell_type": "code",
      "source": [
        "# 1～10までに含まれる素数のセット（2と5が重複）\n",
        "prime_numbers = {2, 5, 2, 7, 3, 5, 5 }\n",
        "\n",
        "# セット全体を表示\n",
        "print(prime_numbers)"
      ],
      "metadata": {
        "colab": {
          "base_uri": "https://localhost:8080/"
        },
        "id": "slHUGO9qW965",
        "outputId": "088c1d79-dd64-4757-cea5-5ea8dbbf3c56"
      },
      "execution_count": 29,
      "outputs": [
        {
          "output_type": "stream",
          "name": "stdout",
          "text": [
            "{2, 3, 5, 7}\n"
          ]
        }
      ]
    },
    {
      "cell_type": "code",
      "source": [
        "# 1～10までに含まれる素数のセット\n",
        "prime_numbers = {2, 3, 5, 7}\n",
        "\n",
        "# セット全体を表示\n",
        "print(prime_numbers)\n",
        "\n",
        "# セットの3番目の要素を表示 ⇒ できないためエラー\n",
        "print(prime_numbers[2])"
      ],
      "metadata": {
        "colab": {
          "base_uri": "https://localhost:8080/",
          "height": 205
        },
        "id": "Zmb6DyLSXDrG",
        "outputId": "ba714952-268d-4481-b6c1-b2da34b56521"
      },
      "execution_count": 30,
      "outputs": [
        {
          "output_type": "stream",
          "name": "stdout",
          "text": [
            "{2, 3, 5, 7}\n"
          ]
        },
        {
          "output_type": "error",
          "ename": "TypeError",
          "evalue": "'set' object is not subscriptable",
          "traceback": [
            "\u001b[0;31m---------------------------------------------------------------------------\u001b[0m",
            "\u001b[0;31mTypeError\u001b[0m                                 Traceback (most recent call last)",
            "\u001b[0;32m/tmp/ipython-input-30-2953579971.py\u001b[0m in \u001b[0;36m<cell line: 0>\u001b[0;34m()\u001b[0m\n\u001b[1;32m      6\u001b[0m \u001b[0;34m\u001b[0m\u001b[0m\n\u001b[1;32m      7\u001b[0m \u001b[0;31m# セットの3番目の要素を表示 ⇒ できないためエラー\u001b[0m\u001b[0;34m\u001b[0m\u001b[0;34m\u001b[0m\u001b[0m\n\u001b[0;32m----> 8\u001b[0;31m \u001b[0mprint\u001b[0m\u001b[0;34m(\u001b[0m\u001b[0mprime_numbers\u001b[0m\u001b[0;34m[\u001b[0m\u001b[0;36m2\u001b[0m\u001b[0;34m]\u001b[0m\u001b[0;34m)\u001b[0m\u001b[0;34m\u001b[0m\u001b[0;34m\u001b[0m\u001b[0m\n\u001b[0m",
            "\u001b[0;31mTypeError\u001b[0m: 'set' object is not subscriptable"
          ]
        }
      ]
    },
    {
      "cell_type": "code",
      "source": [
        "# 1～10までに含まれる素数のセット\n",
        "prime_numbers = {2, 3, 5, 7}\n",
        "\n",
        "# セット全体を表示\n",
        "print(prime_numbers)\n",
        "\n",
        "prime_numbers.add(11) # 11をセットに追加\n",
        "print(prime_numbers)\n",
        "\n",
        "prime_numbers.remove(3) # セットから3を削除\n",
        "print(prime_numbers)"
      ],
      "metadata": {
        "colab": {
          "base_uri": "https://localhost:8080/"
        },
        "id": "kd8NnpoDXPoI",
        "outputId": "8ed820c0-3a6b-409a-823d-1a62e70d3501"
      },
      "execution_count": 31,
      "outputs": [
        {
          "output_type": "stream",
          "name": "stdout",
          "text": [
            "{2, 3, 5, 7}\n",
            "{2, 3, 5, 7, 11}\n",
            "{2, 5, 7, 11}\n"
          ]
        }
      ]
    },
    {
      "cell_type": "code",
      "source": [
        "country_names = {\"アメリカ\", \"イギリス\", \"日本\",\"フランス\"}\n",
        "\n",
        "\n",
        "# セット全体を表示\n",
        "print(country_names)\n",
        "\n",
        "country_names.add(\"ドイツ\")#「ドイツ」を設置に追加\n",
        "print(country_names)\n",
        "\n",
        "country_names.remove(\"イギリス\")# セットから「イギリス」を削除\n",
        "print(country_names)"
      ],
      "metadata": {
        "colab": {
          "base_uri": "https://localhost:8080/"
        },
        "id": "Ieio8koCXWLy",
        "outputId": "c4d5f2dd-7c94-454f-9f7b-78276a65802f"
      },
      "execution_count": 33,
      "outputs": [
        {
          "output_type": "stream",
          "name": "stdout",
          "text": [
            "{'フランス', 'イギリス', '日本', 'アメリカ'}\n",
            "{'アメリカ', 'フランス', 'イギリス', 'ドイツ', '日本'}\n",
            "{'アメリカ', 'フランス', 'ドイツ', '日本'}\n"
          ]
        }
      ]
    },
    {
      "cell_type": "code",
      "source": [
        "user_names = [\"侍太郎\", \"侍一郎\", \"侍二郎\", \"侍三郎\", \"侍四郎\"]\n",
        "\n",
        "# 2番目の要素を更新する\n",
        "user_names[1] = \"侍花子\"\n",
        "\n",
        "# 2番目の要素を表示する\n",
        "print(user_names[1])"
      ],
      "metadata": {
        "colab": {
          "base_uri": "https://localhost:8080/"
        },
        "id": "pCrWnRo0YM__",
        "outputId": "6fc55b4f-b7d6-4fc0-97d5-21896ac64c1e"
      },
      "execution_count": 34,
      "outputs": [
        {
          "output_type": "stream",
          "name": "stdout",
          "text": [
            "侍花子\n"
          ]
        }
      ]
    },
    {
      "cell_type": "code",
      "source": [
        "sports = {1: \"サッカー\", 2: \"野球\", 3: \"バスケット\"}\n",
        "# キー「2」が重複している\n",
        "sports = {1: \"サッカー\", 2: \"野球\", 2: \"バドミントン\", 3: \"バスケット\"}\n",
        "sports = {1: \"サッカー\", 2: \"バドミントン\", 3: \"バスケット\"}\n",
        "print(sports)"
      ],
      "metadata": {
        "colab": {
          "base_uri": "https://localhost:8080/"
        },
        "id": "ra0E2CovZiI5",
        "outputId": "da6ffe79-dce2-4067-f882-e2dc9d9c3d44"
      },
      "execution_count": 40,
      "outputs": [
        {
          "output_type": "stream",
          "name": "stdout",
          "text": [
            "{1: 'サッカー', 2: 'バドミントン', 3: 'バスケット'}\n"
          ]
        }
      ]
    },
    {
      "cell_type": "code",
      "source": [
        "stationery_prices = {\"鉛筆\": 70, \"ボールペン\": 120, \"シャープペンシル\": 150, \"消しゴム\": 90}\n",
        "\n",
        "# ボールペンの価格を取り出して表示\n",
        "print(stationery_prices[\"ボールペン\"])"
      ],
      "metadata": {
        "colab": {
          "base_uri": "https://localhost:8080/"
        },
        "id": "tum4uV8wZnkA",
        "outputId": "8938a666-a61e-4ecb-8350-f3e601b12977"
      },
      "execution_count": 41,
      "outputs": [
        {
          "output_type": "stream",
          "name": "stdout",
          "text": [
            "120\n"
          ]
        }
      ]
    },
    {
      "cell_type": "code",
      "source": [
        "sports = {1: \"サッカー\", 2: \"野球\", 3: \"バスケット\"}\n",
        "\n",
        "# キー「2」の値を「バドミントン」に書き換える\n",
        "sports[2] = \"バドミントン\"\n",
        "\n",
        "# キー「4」として「水泳」を追加する\n",
        "sports[4] = \"水泳\"\n",
        "\n",
        "# 連想配列全体を取り出して表示\n",
        "print(sports)"
      ],
      "metadata": {
        "colab": {
          "base_uri": "https://localhost:8080/"
        },
        "id": "LSEmquaWZ_HU",
        "outputId": "d61b389e-21be-414e-e5bc-2fb50ae46198"
      },
      "execution_count": 42,
      "outputs": [
        {
          "output_type": "stream",
          "name": "stdout",
          "text": [
            "{1: 'サッカー', 2: 'バドミントン', 3: 'バスケット', 4: '水泳'}\n"
          ]
        }
      ]
    },
    {
      "cell_type": "code",
      "source": [
        "stationery_prices = {\"鉛筆\": 70, \"ボールペン\": 120, \"シャープペンシル\": 150, \"消しゴム\": 90}\n",
        "\n",
        "# 「シャープペンシル」を要素ごと削除\n",
        "stationery_prices.pop(\"シャープペンシル\")\n",
        "\n",
        "# 連想配列全体を取り出して表示\n",
        "print(stationery_prices)"
      ],
      "metadata": {
        "colab": {
          "base_uri": "https://localhost:8080/"
        },
        "id": "mfTMopjKaC9i",
        "outputId": "f31252a9-24c4-4331-e5e6-e4538b5cf167"
      },
      "execution_count": 43,
      "outputs": [
        {
          "output_type": "stream",
          "name": "stdout",
          "text": [
            "{'鉛筆': 70, 'ボールペン': 120, '消しゴム': 90}\n"
          ]
        }
      ]
    },
    {
      "cell_type": "code",
      "source": [
        "# 連想配列を作成\n",
        "personal_data = {\"name\": \"侍太郎\", \"age\": 36, \"gender\": \"男性\"}\n",
        "\n",
        "# キー「name」の値を表示\n",
        "print(personal_data[\"name\"])\n",
        "\n",
        "# 連想配列全体を表示\n",
        "print(personal_data)\n",
        "\n",
        "# キー「age」の値を更新\n",
        "personal_data[\"age\"] = 37\n",
        "\n",
        "# 新しく要素（キーと値）を追加\n",
        "personal_data[\"address\"] = \"東京都\"\n",
        "\n",
        "# 連想配列全体を表示\n",
        "print(personal_data)"
      ],
      "metadata": {
        "colab": {
          "base_uri": "https://localhost:8080/"
        },
        "id": "ca54VeAnaJ1c",
        "outputId": "3dc521f2-0325-4d96-db7d-81631a6082fe"
      },
      "execution_count": 44,
      "outputs": [
        {
          "output_type": "stream",
          "name": "stdout",
          "text": [
            "侍太郎\n",
            "{'name': '侍太郎', 'age': 36, 'gender': '男性'}\n",
            "{'name': '侍太郎', 'age': 37, 'gender': '男性', 'address': '東京都'}\n"
          ]
        }
      ]
    },
    {
      "cell_type": "code",
      "source": [
        "# リストの作成\n",
        "array = [\"月曜日は晴れです\", \"火曜日は雨です\", \"水曜日は晴れです\", \"木曜日は晴れです\", \"金曜日は曇りです\", \"土曜日は曇りのち雨です\", \"日曜日は雷雨です\"]\n",
        "print(array[2])\n",
        "# ディクショナリの作成\n",
        "dictionary = {\"mon\": \"晴れ\", \"tue\": \"雨\", \"wed\": \"晴れ\", \"thu\": \"晴れ\", \"fri\": \"曇り\", \"sat\": \"曇りのち雨\", \"sun\": \"雷雨\"}\n",
        "print(dictionary[\"wed\"])"
      ],
      "metadata": {
        "colab": {
          "base_uri": "https://localhost:8080/"
        },
        "id": "3c4CVlJPaRze",
        "outputId": "cb46dbfd-66c1-4732-aa6c-ebe46a2b9cb2"
      },
      "execution_count": 57,
      "outputs": [
        {
          "output_type": "stream",
          "name": "stdout",
          "text": [
            "水曜日は晴れです\n",
            "晴れ\n"
          ]
        }
      ]
    },
    {
      "cell_type": "code",
      "source": [
        "num = 50\n",
        "\n",
        "# 変数numが10より大きいならば、文字列を出力する\n",
        "if 10 < num:\n",
        "    print(\"変数numは10より大きいです\")\n",
        "\n",
        "# 変数numが20より小さいならば、文字列を出力する\n",
        "if 20 > num:\n",
        "    print(\"変数numは20より小さいです\")"
      ],
      "metadata": {
        "colab": {
          "base_uri": "https://localhost:8080/"
        },
        "id": "mT6-joDqbdhb",
        "outputId": "eb7572bf-5f17-44d8-8f0b-8ac0c4e62a59"
      },
      "execution_count": 4,
      "outputs": [
        {
          "output_type": "stream",
          "name": "stdout",
          "text": [
            "変数numは10より大きいです\n"
          ]
        }
      ]
    },
    {
      "cell_type": "code",
      "source": [
        "print(45 + 18)# 算術演算子を使った場合の戻り値を出力する\n",
        "print(45 > 18)# 比較演算子を使った場合の戻り値を出力する"
      ],
      "metadata": {
        "colab": {
          "base_uri": "https://localhost:8080/"
        },
        "id": "vyqgUCaDeYt6",
        "outputId": "8feb9835-c14d-4c73-f521-822135551672"
      },
      "execution_count": 5,
      "outputs": [
        {
          "output_type": "stream",
          "name": "stdout",
          "text": [
            "63\n",
            "True\n"
          ]
        }
      ]
    },
    {
      "cell_type": "code",
      "source": [
        "print(\"5\" == 5)"
      ],
      "metadata": {
        "colab": {
          "base_uri": "https://localhost:8080/"
        },
        "id": "v4WdXgOre9Ng",
        "outputId": "6bd76b1e-6737-4ed2-e272-d340f298833b"
      },
      "execution_count": 6,
      "outputs": [
        {
          "output_type": "stream",
          "name": "stdout",
          "text": [
            "False\n"
          ]
        }
      ]
    },
    {
      "cell_type": "code",
      "source": [
        "num1 = 5\n",
        "num2 = \"5\"\n",
        "\n",
        "if num1 == int(num2):\n",
        "    print(\"num1とnum2は等しいです\")"
      ],
      "metadata": {
        "colab": {
          "base_uri": "https://localhost:8080/"
        },
        "id": "eJ9ZCarlfI1a",
        "outputId": "344b48e5-7f20-46df-d59a-21ea8ffaf6a8"
      },
      "execution_count": 8,
      "outputs": [
        {
          "output_type": "stream",
          "name": "stdout",
          "text": [
            "num1とnum2は等しいです\n"
          ]
        }
      ]
    },
    {
      "cell_type": "code",
      "source": [
        "#ランダムな整数を利用するために、randomモジュールをインポート\n",
        "import random\n",
        "\n",
        "# 変数numに0～4までのランダムな変数を代入する\n",
        "num = random.randint(0, 4)\n",
        "\n",
        "# 変数numの値を出力\n",
        "print(num)\n",
        "\n",
        "# 変数numの値が4であれば、『大当たりです』という文字列を出力する\n",
        "if num == 4:\n",
        "    print(\"大当たりです\")\n",
        "elif num == 3:\n",
        "    print(\"当たりです\")\n",
        "else:\n",
        "    print(\"はずれです\")"
      ],
      "metadata": {
        "colab": {
          "base_uri": "https://localhost:8080/"
        },
        "id": "g6zsgVh0fbV3",
        "outputId": "c2dc6492-7c49-4b95-b1ad-5624fdec9745"
      },
      "execution_count": 46,
      "outputs": [
        {
          "output_type": "stream",
          "name": "stdout",
          "text": [
            "4\n",
            "大当たりです\n"
          ]
        }
      ]
    },
    {
      "cell_type": "code",
      "source": [
        "# すべての条件が成り立つ場合にのみ処理を行う（変数numの値が11～29)g\n",
        "if 10 < num and num < 30:\n",
        "      print(\"変数numは10より大きく、30より小さいです\")\n",
        "# 1つで条件が成り立てば処理を行う（変数numの値が10または30）\n",
        "if num == 10 or num == 30:\n",
        "     print(\"変数numは10または30です\")"
      ],
      "metadata": {
        "id": "DVzCsf0sgaC7"
      },
      "execution_count": 49,
      "outputs": []
    },
    {
      "cell_type": "code",
      "source": [
        "#ランダムな整数を利用するために、randomモジュールをインポート\n",
        "import random\n",
        "\n",
        "# 変数numに0～4までのランダムな整数を代入する\n",
        "num = random.randint(0, 4)\n",
        "\n",
        "# 変数numの値を出力\n",
        "print(num)\n",
        "\n",
        "# すべての条件が成り立つ場合にのみ処理を行う（変数numの値が2）\n",
        "if 1 < num and num < 3:\n",
        "    print(\"変数numは1より大きく、3より小さいです\")\n",
        "else:\n",
        "    print(\"and条件が成り立ちませんでした\")\n",
        "\n",
        "# 1つでも条件が成り立てば処理を行う（変数numの値が1または3）\n",
        "if num == 1 or num == 3:\n",
        "    print(\"変数numは1または3です\")\n",
        "else:\n",
        "    print(\"or条件が成り立ちませんでした\")"
      ],
      "metadata": {
        "colab": {
          "base_uri": "https://localhost:8080/"
        },
        "id": "XaqyMPnThm_w",
        "outputId": "d3f7c11c-b5bb-4d1a-9436-afdbc15f073d"
      },
      "execution_count": 62,
      "outputs": [
        {
          "output_type": "stream",
          "name": "stdout",
          "text": [
            "1\n",
            "and条件が成り立ちませんでした\n",
            "変数numは1または3です\n"
          ]
        }
      ]
    },
    {
      "cell_type": "code",
      "source": [
        "var = 30\n",
        "\n",
        "# varが3の倍数かつ5の倍数の場合\n",
        "if var % 3 == 0 and var % 5 == 0:\n",
        "    print(\"FizzBuzz\")\n",
        "# varが3の倍数の場合\n",
        "elif var % 3 == 0:\n",
        "    print(\"FIzz\")\n",
        "# varが5の倍数の場合\n",
        "elif var % 5 == 0:\n",
        "    print(\"Buzz\")\n",
        "else:\n",
        "# 上記のどの場合にも該当しない場合\n",
        "    print(var)"
      ],
      "metadata": {
        "colab": {
          "base_uri": "https://localhost:8080/"
        },
        "id": "sjKD83w0iSk7",
        "outputId": "9baeb140-67fd-4362-a6df-a5cc38a2ec0d"
      },
      "execution_count": 78,
      "outputs": [
        {
          "output_type": "stream",
          "name": "stdout",
          "text": [
            "FizzBuzz\n"
          ]
        }
      ]
    },
    {
      "cell_type": "code",
      "source": [],
      "metadata": {
        "id": "SHB--8Kmktmx"
      },
      "execution_count": null,
      "outputs": []
    }
  ]
}